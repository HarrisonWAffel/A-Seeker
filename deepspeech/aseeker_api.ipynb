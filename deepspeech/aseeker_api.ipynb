{
 "cells": [
  {
   "cell_type": "code",
   "execution_count": null,
   "metadata": {},
   "outputs": [],
   "source": [
    "from flask import Flask, json\n",
    "\n",
    "# need to replace this mock with data from DB\n",
    "transcriptions = [{\"id\": 1, \"title\": \"Example1\", \"body\", \"trans1.txt\"}, {\"id\": 2, \"name\": \"Company Two\"}]\n",
    "\n",
    "api = Flask(__name__)\n",
    "\n",
    "\n",
    "@api.route('/all/transcriptions', methods=['GET'])\n",
    "def get_all_transcriptions():\n",
    "    return json.dumps(transcriptions)\n",
    "\n",
    "@api.route('/upload', methods=['POST'])\n",
    "def upload_file():\n",
    "    content = request.json()\n",
    "    # check if valid file and save to DB if it is\n",
    "    \n",
    "\n",
    "if __name__ == '__main__':\n",
    "    api.run()"
   ]
  }
 ],
 "metadata": {
  "kernelspec": {
   "display_name": "Python 3",
   "language": "python",
   "name": "python3"
  },
  "language_info": {
   "codemirror_mode": {
    "name": "ipython",
    "version": 3
   },
   "file_extension": ".py",
   "mimetype": "text/x-python",
   "name": "python",
   "nbconvert_exporter": "python",
   "pygments_lexer": "ipython3",
   "version": "3.7.6"
  }
 },
 "nbformat": 4,
 "nbformat_minor": 4
}
